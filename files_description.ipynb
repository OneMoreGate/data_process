{
 "cells": [
  {
   "cell_type": "code",
   "execution_count": 1,
   "metadata": {},
   "outputs": [],
   "source": [
    "from classes import *\n",
    "from matplotlib.gridspec import GridSpec\n",
    "import matplotlib.ticker as ticker\n",
    "from matplotlib.axis import Axis"
   ]
  },
  {
   "cell_type": "code",
   "execution_count": 2,
   "metadata": {},
   "outputs": [],
   "source": [
    "m = Measurments('hBN_1')\n",
    "p = Process_DC_IV(m.get_abspath())\n",
    "d = Draw_DC_IV(m.get_abspath())"
   ]
  },
  {
   "cell_type": "code",
   "execution_count": 3,
   "metadata": {},
   "outputs": [],
   "source": [
    "m.delete_measurments({16: [i for i in range(52)] + [i for i in range(101,107)] + [154,155]})\n",
    "dict_16 = m.get_contact_dict(16)\n",
    "m.delete_measurments({4: [i for i in range(20)]})\n",
    "dict_4 = m.get_contact_dict(4)"
   ]
  },
  {
   "cell_type": "code",
   "execution_count": 4,
   "metadata": {},
   "outputs": [
    {
     "data": {
      "text/plain": [
       "\"fig = plt.figure(figsize=(14, 7), constrained_layout=True)\\n#fig.tight_layout(pad=1)\\nfig.suptitle('Контакт №16', size = 20)\\ngs = GridSpec(ncols=5, nrows=4, figure=fig)\\n\\nax_1 = fig.add_subplot(gs[0:,:3])\\n\\nax_2_1 = fig.add_subplot(gs[0,3])\\nax_2_2 = fig.add_subplot(gs[1,3])\\nax_2_3 = fig.add_subplot(gs[2,3])\\nax_2_4 = fig.add_subplot(gs[3,3])\\n\\nax_3_1 = fig.add_subplot(gs[0,4])\\nax_3_2 = fig.add_subplot(gs[1,4])\\nax_3_3 = fig.add_subplot(gs[2,4])\\nax_3_4 = fig.add_subplot(gs[3,4])\\n\\nI = p.on_off_current(dict_16, 1)\\nV = p.ReRAM_on_off_voltage(dict_16)\\n\\ncoll = d.multiple(dict_16, ax_1, color = 'r', linewidth = 1)\\nd.colored_lines(coll)\\nax_1.autoscale_view()\\nax_1.set_yscale('log')\\nax_1.tick_params(axis='both', labelsize = 15)\\nax_1.set(xlim=(-3, 3), ylim=(10**(-12), 10 ** (-2)))\\nax_1.set_xlabel(xlabel='Напряжение, В', size = 17)\\nax_1.set_ylabel(ylabel='Ток, А', size = 17)\\nax_1.xaxis.set_major_locator(ticker.MultipleLocator(1))\\nax_1.xaxis.set_minor_locator(ticker.MultipleLocator(0.25))\\ny_major = ticker.LogLocator(base = 10.0, numticks = 10)\\nax_1.yaxis.set_major_locator(y_major)\\ny_minor = ticker.LogLocator(base = 10.0, subs = np.arange(1.0, 10.0) * 0.1, numticks = 10)\\nax_1.yaxis.set_minor_locator(y_minor)\\nax_1.yaxis.set_minor_formatter(ticker.NullFormatter())\\n\\nax_2_1.plot(range(len(I['I_on'])), I['I_on'] * 1000000)\\nax_2_1.set_title('От номера измерений')\\nax_2_1.set(xlim=(-5, 100), ylim=(300, 700))\\nax_2_1.xaxis.set_major_locator(ticker.MultipleLocator(20))\\nax_2_1.xaxis.set_minor_locator(ticker.MultipleLocator(5))\\nax_2_1.yaxis.set_major_locator(ticker.MultipleLocator(100))\\nax_2_1.yaxis.set_minor_locator(ticker.MultipleLocator(50))\\nax_2_1.set_ylabel(ylabel=r'$I_{on}, \\\\; \\\\mu A$', size = 15)\\n\\nax_2_2.plot(range(len(I['I_off'])), I['I_off'] * 1000000)\\nax_2_2.set(xlim=(-5, 100), ylim=(0, 15))\\nax_2_2.xaxis.set_major_locator(ticker.MultipleLocator(20))\\nax_2_2.xaxis.set_minor_locator(ticker.MultipleLocator(5))\\nax_2_2.yaxis.set_major_locator(ticker.MultipleLocator(5))\\nax_2_2.yaxis.set_minor_locator(ticker.MultipleLocator(1))\\nax_2_2.set_ylabel(ylabel=r'$I_{off}, \\\\; \\\\mu A$', size = 15)\\n\\nax_2_3.plot(range(len(V[0])), V[0])\\nax_2_3.set(xlim=(-5, 100), ylim=(-3, -1))\\nax_2_3.xaxis.set_major_locator(ticker.MultipleLocator(20))\\nax_2_3.xaxis.set_minor_locator(ticker.MultipleLocator(5))\\nax_2_3.yaxis.set_major_locator(ticker.MultipleLocator(0.5))\\nax_2_3.yaxis.set_minor_locator(ticker.MultipleLocator(0.1))\\nax_2_3.set_ylabel(ylabel=r'$V_{on}, \\\\; V$', size = 15)\\n\\nax_2_4.plot(range(len(V[1])), V[1])\\nax_2_4.plot(range(len(V[0])), V[0])\\nax_2_4.set(xlim=(-5, 100), ylim=(1.5, 2.5))\\nax_2_4.xaxis.set_major_locator(ticker.MultipleLocator(20))\\nax_2_4.xaxis.set_minor_locator(ticker.MultipleLocator(5))\\nax_2_4.yaxis.set_major_locator(ticker.MultipleLocator(0.25))\\nax_2_4.yaxis.set_minor_locator(ticker.MultipleLocator(0.05))\\nax_2_4.set_ylabel(ylabel=r'$V_{off}, \\\\; V$', size = 15)\\n\\nax_3_1.hist(I['I_on']* 1000000, bins=15, rwidth=0.8, weights=1 / len(I['I_on']) * np.ones(len(I['I_on'])), edgecolor = 'k')\\nax_3_1.set_title('Гистограмма')\\nax_3_1.set(xlim=ax_2_1.get_ylim())\\nax_3_1.xaxis.set_major_locator(ticker.MultipleLocator(100))\\nax_3_1.xaxis.set_minor_locator(ticker.MultipleLocator(25))\\nax_3_1.tick_params(left = False, labelleft = False) \\n\\nax_3_2.hist(I['I_off']* 1000000, bins=15, rwidth=0.8, weights=1 / len(I['I_off']) * np.ones(len(I['I_off'])), edgecolor = 'k')\\nax_3_2.set(xlim=ax_2_2.get_ylim())\\nax_3_2.xaxis.set_major_locator(ticker.MultipleLocator(5))\\nax_3_2.xaxis.set_minor_locator(ticker.MultipleLocator(1))\\nax_3_2.tick_params(left = False, labelleft = False) \\n\\nax_3_3.hist(V[0], bins=15, rwidth=0.8, weights=1 / len(V[0]) * np.ones(len(V[0])), edgecolor = 'k')\\nax_3_3.set(xlim=ax_2_3.get_ylim())\\nax_3_3.xaxis.set_major_locator(ticker.MultipleLocator(0.5))\\nax_3_3.xaxis.set_minor_locator(ticker.MultipleLocator(0.1))\\nax_3_3.tick_params(left = False, labelleft = False) \\n\\nax_3_4.hist(V[1],bins=15, rwidth=0.8, weights=1 / len(V[1]) * np.ones(len(V[1])), edgecolor = 'k')\\nax_3_4.set(xlim=ax_2_4.get_ylim())\\nax_3_4.xaxis.set_major_locator(ticker.MultipleLocator(0.25))\\nax_3_4.xaxis.set_minor_locator(ticker.MultipleLocator(0.5))\\nax_3_4.tick_params(left = False, labelleft = False) \\n\\n#plt.savefig('one_contact_all_info.png', dpi = 300, bbox_inches = 'tight')\""
      ]
     },
     "execution_count": 4,
     "metadata": {},
     "output_type": "execute_result"
    }
   ],
   "source": [
    "'''fig = plt.figure(figsize=(14, 7), constrained_layout=True)\n",
    "#fig.tight_layout(pad=1)\n",
    "fig.suptitle('Контакт №16', size = 20)\n",
    "gs = GridSpec(ncols=5, nrows=4, figure=fig)\n",
    "\n",
    "ax_1 = fig.add_subplot(gs[0:,:3])\n",
    "\n",
    "ax_2_1 = fig.add_subplot(gs[0,3])\n",
    "ax_2_2 = fig.add_subplot(gs[1,3])\n",
    "ax_2_3 = fig.add_subplot(gs[2,3])\n",
    "ax_2_4 = fig.add_subplot(gs[3,3])\n",
    "\n",
    "ax_3_1 = fig.add_subplot(gs[0,4])\n",
    "ax_3_2 = fig.add_subplot(gs[1,4])\n",
    "ax_3_3 = fig.add_subplot(gs[2,4])\n",
    "ax_3_4 = fig.add_subplot(gs[3,4])\n",
    "\n",
    "I = p.on_off_current(dict_16, 1)\n",
    "V = p.ReRAM_on_off_voltage(dict_16)\n",
    "\n",
    "coll = d.multiple(dict_16, ax_1, color = 'r', linewidth = 1)\n",
    "d.colored_lines(coll)\n",
    "ax_1.autoscale_view()\n",
    "ax_1.set_yscale('log')\n",
    "ax_1.tick_params(axis='both', labelsize = 15)\n",
    "ax_1.set(xlim=(-3, 3), ylim=(10**(-12), 10 ** (-2)))\n",
    "ax_1.set_xlabel(xlabel='Напряжение, В', size = 17)\n",
    "ax_1.set_ylabel(ylabel='Ток, А', size = 17)\n",
    "ax_1.xaxis.set_major_locator(ticker.MultipleLocator(1))\n",
    "ax_1.xaxis.set_minor_locator(ticker.MultipleLocator(0.25))\n",
    "y_major = ticker.LogLocator(base = 10.0, numticks = 10)\n",
    "ax_1.yaxis.set_major_locator(y_major)\n",
    "y_minor = ticker.LogLocator(base = 10.0, subs = np.arange(1.0, 10.0) * 0.1, numticks = 10)\n",
    "ax_1.yaxis.set_minor_locator(y_minor)\n",
    "ax_1.yaxis.set_minor_formatter(ticker.NullFormatter())\n",
    "\n",
    "ax_2_1.plot(range(len(I['I_on'])), I['I_on'] * 1000000)\n",
    "ax_2_1.set_title('От номера измерений')\n",
    "ax_2_1.set(xlim=(-5, 100), ylim=(300, 700))\n",
    "ax_2_1.xaxis.set_major_locator(ticker.MultipleLocator(20))\n",
    "ax_2_1.xaxis.set_minor_locator(ticker.MultipleLocator(5))\n",
    "ax_2_1.yaxis.set_major_locator(ticker.MultipleLocator(100))\n",
    "ax_2_1.yaxis.set_minor_locator(ticker.MultipleLocator(50))\n",
    "ax_2_1.set_ylabel(ylabel=r'$I_{on}, \\; \\mu A$', size = 15)\n",
    "\n",
    "ax_2_2.plot(range(len(I['I_off'])), I['I_off'] * 1000000)\n",
    "ax_2_2.set(xlim=(-5, 100), ylim=(0, 15))\n",
    "ax_2_2.xaxis.set_major_locator(ticker.MultipleLocator(20))\n",
    "ax_2_2.xaxis.set_minor_locator(ticker.MultipleLocator(5))\n",
    "ax_2_2.yaxis.set_major_locator(ticker.MultipleLocator(5))\n",
    "ax_2_2.yaxis.set_minor_locator(ticker.MultipleLocator(1))\n",
    "ax_2_2.set_ylabel(ylabel=r'$I_{off}, \\; \\mu A$', size = 15)\n",
    "\n",
    "ax_2_3.plot(range(len(V[0])), V[0])\n",
    "ax_2_3.set(xlim=(-5, 100), ylim=(-3, -1))\n",
    "ax_2_3.xaxis.set_major_locator(ticker.MultipleLocator(20))\n",
    "ax_2_3.xaxis.set_minor_locator(ticker.MultipleLocator(5))\n",
    "ax_2_3.yaxis.set_major_locator(ticker.MultipleLocator(0.5))\n",
    "ax_2_3.yaxis.set_minor_locator(ticker.MultipleLocator(0.1))\n",
    "ax_2_3.set_ylabel(ylabel=r'$V_{on}, \\; V$', size = 15)\n",
    "\n",
    "ax_2_4.plot(range(len(V[1])), V[1])\n",
    "ax_2_4.plot(range(len(V[0])), V[0])\n",
    "ax_2_4.set(xlim=(-5, 100), ylim=(1.5, 2.5))\n",
    "ax_2_4.xaxis.set_major_locator(ticker.MultipleLocator(20))\n",
    "ax_2_4.xaxis.set_minor_locator(ticker.MultipleLocator(5))\n",
    "ax_2_4.yaxis.set_major_locator(ticker.MultipleLocator(0.25))\n",
    "ax_2_4.yaxis.set_minor_locator(ticker.MultipleLocator(0.05))\n",
    "ax_2_4.set_ylabel(ylabel=r'$V_{off}, \\; V$', size = 15)\n",
    "\n",
    "ax_3_1.hist(I['I_on']* 1000000, bins=15, rwidth=0.8, weights=1 / len(I['I_on']) * np.ones(len(I['I_on'])), edgecolor = 'k')\n",
    "ax_3_1.set_title('Гистограмма')\n",
    "ax_3_1.set(xlim=ax_2_1.get_ylim())\n",
    "ax_3_1.xaxis.set_major_locator(ticker.MultipleLocator(100))\n",
    "ax_3_1.xaxis.set_minor_locator(ticker.MultipleLocator(25))\n",
    "ax_3_1.tick_params(left = False, labelleft = False) \n",
    "\n",
    "ax_3_2.hist(I['I_off']* 1000000, bins=15, rwidth=0.8, weights=1 / len(I['I_off']) * np.ones(len(I['I_off'])), edgecolor = 'k')\n",
    "ax_3_2.set(xlim=ax_2_2.get_ylim())\n",
    "ax_3_2.xaxis.set_major_locator(ticker.MultipleLocator(5))\n",
    "ax_3_2.xaxis.set_minor_locator(ticker.MultipleLocator(1))\n",
    "ax_3_2.tick_params(left = False, labelleft = False) \n",
    "\n",
    "ax_3_3.hist(V[0], bins=15, rwidth=0.8, weights=1 / len(V[0]) * np.ones(len(V[0])), edgecolor = 'k')\n",
    "ax_3_3.set(xlim=ax_2_3.get_ylim())\n",
    "ax_3_3.xaxis.set_major_locator(ticker.MultipleLocator(0.5))\n",
    "ax_3_3.xaxis.set_minor_locator(ticker.MultipleLocator(0.1))\n",
    "ax_3_3.tick_params(left = False, labelleft = False) \n",
    "\n",
    "ax_3_4.hist(V[1],bins=15, rwidth=0.8, weights=1 / len(V[1]) * np.ones(len(V[1])), edgecolor = 'k')\n",
    "ax_3_4.set(xlim=ax_2_4.get_ylim())\n",
    "ax_3_4.xaxis.set_major_locator(ticker.MultipleLocator(0.25))\n",
    "ax_3_4.xaxis.set_minor_locator(ticker.MultipleLocator(0.5))\n",
    "ax_3_4.tick_params(left = False, labelleft = False) \n",
    "\n",
    "#plt.savefig('one_contact_all_info.png', dpi = 300, bbox_inches = 'tight')'''"
   ]
  },
  {
   "cell_type": "code",
   "execution_count": 8,
   "metadata": {},
   "outputs": [],
   "source": [
    "m2 = Measurments('hBN_1_3')\n",
    "p2 = Process_DC_IV(m2.get_abspath())\n",
    "d2 = Draw_DC_IV(m2.get_abspath())\n",
    "d2.from_dict(m2.get_full_dict(), 'hBN_1_3_graphs')"
   ]
  }
 ],
 "metadata": {
  "kernelspec": {
   "display_name": "Python 3",
   "language": "python",
   "name": "python3"
  },
  "language_info": {
   "codemirror_mode": {
    "name": "ipython",
    "version": 3
   },
   "file_extension": ".py",
   "mimetype": "text/x-python",
   "name": "python",
   "nbconvert_exporter": "python",
   "pygments_lexer": "ipython3",
   "version": "3.11.4"
  }
 },
 "nbformat": 4,
 "nbformat_minor": 2
}
