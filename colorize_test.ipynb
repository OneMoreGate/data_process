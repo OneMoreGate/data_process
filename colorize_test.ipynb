{
 "cells": [
  {
   "cell_type": "code",
   "execution_count": 1,
   "metadata": {},
   "outputs": [],
   "source": [
    "from classes import *"
   ]
  },
  {
   "cell_type": "code",
   "execution_count": 2,
   "metadata": {},
   "outputs": [],
   "source": [
    "m = Measurments('hBN_1')\n",
    "m.delete_measurments({16: [i for i in range(52)] + [i for i in range(101,107)] + [154,155]})\n",
    "dict_16 = m.get_contact_dict(16)\n",
    "p = Process_DC_IV(m.get_abspath())\n",
    "d = Draw_DC_IV(m.get_abspath())\n",
    "\n",
    "m.delete_measurments({4: [i for i in range(20)]})\n",
    "dict_4 = m.get_contact_dict(4)"
   ]
  },
  {
   "cell_type": "code",
   "execution_count": 3,
   "metadata": {},
   "outputs": [],
   "source": [
    "d.from_dict(dict_16, 'here')"
   ]
  }
 ],
 "metadata": {
  "kernelspec": {
   "display_name": "Python 3",
   "language": "python",
   "name": "python3"
  },
  "language_info": {
   "codemirror_mode": {
    "name": "ipython",
    "version": 3
   },
   "file_extension": ".py",
   "mimetype": "text/x-python",
   "name": "python",
   "nbconvert_exporter": "python",
   "pygments_lexer": "ipython3",
   "version": "3.11.2"
  }
 },
 "nbformat": 4,
 "nbformat_minor": 2
}
